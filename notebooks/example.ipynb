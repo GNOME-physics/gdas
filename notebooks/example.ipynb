{
 "cells": [
  {
   "cell_type": "code",
   "execution_count": null,
   "metadata": {
    "collapsed": true
   },
   "outputs": [],
   "source": [
    "import gdas\n",
    "\n",
    "\"\"\"\n",
    "This script is an example on how to run gdas using all the built-in\n",
    "modules of the gdas package.\n",
    "\"\"\"\n",
    "\n",
    "# Look at each argument\n",
    "args    = gdas.construct_args()\n",
    "station = args.station\n",
    "start   = args.analysis_start_time\n",
    "end     = args.analysis_end_time\n",
    "\n",
    "# Convert to GPS time and retrieve data\n",
    "start_time,end_time = gdas.convertdate(start,end)\n",
    "print start_time,end_time\n",
    "data = gdas.magfield(station,start_time,end_time)"
   ]
  }
 ],
 "metadata": {
  "kernelspec": {
   "display_name": "Python 2",
   "language": "python",
   "name": "python2"
  },
  "language_info": {
   "codemirror_mode": {
    "name": "ipython",
    "version": 2
   },
   "file_extension": ".py",
   "mimetype": "text/x-python",
   "name": "python",
   "nbconvert_exporter": "python",
   "pygments_lexer": "ipython2",
   "version": "2.7.12"
  }
 },
 "nbformat": 4,
 "nbformat_minor": 1
}
