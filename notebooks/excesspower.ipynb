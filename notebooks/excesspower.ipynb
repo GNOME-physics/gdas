{
 "cells": [
  {
   "cell_type": "markdown",
   "metadata": {
    "collapsed": true
   },
   "source": [
    "We first import the gdas package."
   ]
  },
  {
   "cell_type": "code",
   "execution_count": 7,
   "metadata": {
    "collapsed": false
   },
   "outputs": [],
   "source": [
    "import gdas"
   ]
  },
  {
   "cell_type": "code",
   "execution_count": 8,
   "metadata": {
    "collapsed": false
   },
   "outputs": [
    {
     "name": "stderr",
     "output_type": "stream",
     "text": [
      "usage: __main__.py [-h] [--tile-fap TILE_FAP] [--verbose] [--mainplot]\n",
      "                   [--excesspower] [--triggerplot]\n",
      "                   [--min-frequency MIN_FREQUENCY]\n",
      "                   [--max-frequency MAX_FREQUENCY]\n",
      "                   [--max-duration MAX_DURATION]\n",
      "                   [--tile-bandwidth TILE_BANDWIDTH] [--channels CHANNELS]\n",
      "                   [--analysis-start-time ANALYSIS_START_TIME]\n",
      "                   [--analysis-end-time ANALYSIS_END_TIME] [--station STATION]\n",
      "                   [--window-fraction WINDOW_FRACTION]\n",
      "                   [--gps-start-time GPS_START_TIME]\n",
      "                   [--gps-end-time GPS_END_TIME]\n",
      "                   [--strain-high-pass STRAIN_HIGH_PASS] [--pad-data PAD_DATA]\n",
      "                   [--taper-data TAPER_DATA] [--sample-rate SAMPLE_RATE]\n",
      "                   [--channel-name CHANNEL_NAME]\n",
      "                   [--frame-cache FRAME_CACHE [FRAME_CACHE ...]]\n",
      "                   [--frame-files FRAME_FILES [FRAME_FILES ...]]\n",
      "                   [--frame-type FRAME_TYPE]\n",
      "                   [--fake-strain {AdvVirgo,GEO,GEOHF,KAGRA,TAMA,Virgo,aLIGOBHBH20Deg,aLIGOHighFrequency,aLIGONSNSOpt,aLIGONoSRMHighPower,aLIGONoSRMLowPower,aLIGOQuantumBHBH20Deg,aLIGOQuantumHighFrequency,aLIGOQuantumNSNSOpt,aLIGOQuantumNoSRMHighPower,aLIGOQuantumNoSRMLowPower,aLIGOQuantumZeroDetHighPower,aLIGOQuantumZeroDetLowPower,aLIGOThermal,aLIGOZeroDetHighPower,aLIGOZeroDetLowPower,eLIGOModel,eLIGOShot,iLIGOModel,iLIGOSRD,iLIGOSeismic,iLIGOShot,iLIGOThermal}]\n",
      "                   [--fake-strain-seed FAKE_STRAIN_SEED]\n",
      "                   [--injection-file INJECTION_FILE]\n",
      "                   [--sgburst-injection-file SGBURST_INJECTION_FILE]\n",
      "                   [--injection-scale-factor INJECTION_SCALE_FACTOR]\n",
      "                   [--gating-file GATING_FILE] [--autogating-threshold SIGMA]\n",
      "                   [--autogating-cluster SECONDS] [--autogating-width SECONDS]\n",
      "                   [--autogating-taper SECONDS] [--autogating-pad SECONDS]\n",
      "                   [--normalize-strain NORMALIZE_STRAIN]\n",
      "                   [--zpk-z ZPK_Z [ZPK_Z ...]] [--zpk-p ZPK_P [ZPK_P ...]]\n",
      "                   [--zpk-k ZPK_K]\n",
      "                   [--psd-model {AdvVirgo,GEO,GEOHF,KAGRA,TAMA,Virgo,aLIGOBHBH20Deg,aLIGOHighFrequency,aLIGONSNSOpt,aLIGONoSRMHighPower,aLIGONoSRMLowPower,aLIGOQuantumBHBH20Deg,aLIGOQuantumHighFrequency,aLIGOQuantumNSNSOpt,aLIGOQuantumNoSRMHighPower,aLIGOQuantumNoSRMLowPower,aLIGOQuantumZeroDetHighPower,aLIGOQuantumZeroDetLowPower,aLIGOThermal,aLIGOZeroDetHighPower,aLIGOZeroDetLowPower,eLIGOModel,eLIGOShot,iLIGOModel,iLIGOSRD,iLIGOSeismic,iLIGOShot,iLIGOThermal}]\n",
      "                   [--psd-file PSD_FILE] [--asd-file ASD_FILE]\n",
      "                   [--psd-estimation {mean,median,median-mean}]\n",
      "                   [--psd-segment-length PSD_SEGMENT_LENGTH]\n",
      "                   [--psd-segment-stride PSD_SEGMENT_STRIDE]\n",
      "                   [--psd-num-segments PSD_NUM_SEGMENTS]\n",
      "                   [--psd-inverse-length PSD_INVERSE_LENGTH]\n",
      "                   [--psd-output PSD_OUTPUT]\n",
      "__main__.py: error: unrecognized arguments: -f /Users/vincent/Library/Jupyter/runtime/kernel-86ff7f52-9c4a-4bd2-9cfe-db4f53f0fe92.json\n"
     ]
    },
    {
     "ename": "SystemExit",
     "evalue": "2",
     "output_type": "error",
     "traceback": [
      "An exception has occurred, use %tb to see the full traceback.\n",
      "\u001b[0;31mSystemExit\u001b[0m\u001b[0;31m:\u001b[0m 2\n"
     ]
    }
   ],
   "source": [
    "args = gdas.utils.retrieve.arguments()"
   ]
  },
  {
   "cell_type": "code",
   "execution_count": null,
   "metadata": {
    "collapsed": true
   },
   "outputs": [],
   "source": []
  }
 ],
 "metadata": {
  "kernelspec": {
   "display_name": "Python 2",
   "language": "python",
   "name": "python2"
  },
  "language_info": {
   "codemirror_mode": {
    "name": "ipython",
    "version": 2
   },
   "file_extension": ".py",
   "mimetype": "text/x-python",
   "name": "python",
   "nbconvert_exporter": "python",
   "pygments_lexer": "ipython2",
   "version": "2.7.12"
  }
 },
 "nbformat": 4,
 "nbformat_minor": 1
}
